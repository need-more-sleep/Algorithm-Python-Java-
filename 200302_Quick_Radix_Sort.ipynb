{
 "cells": [
  {
   "cell_type": "code",
   "execution_count": 1,
   "metadata": {},
   "outputs": [
    {
     "name": "stdout",
     "output_type": "stream",
     "text": [
      "정렬할 데이터의 수 :100\n",
      "<정렬 전>\n",
      "[66, 85, 80, 57, 21, 68, 59, 82, 16, 7, 98, 49, 92, 66, 94, 28, 23, 89, 11, 13, 60, 94, 69, 55, 82, 66, 80, 100, 64, 34, 46, 94, 98, 70, 89, 45, 80, 69, 30, 4, 17, 13, 29, 8, 76, 86, 29, 75, 46, 100, 49, 4, 6, 36, 74, 34, 81, 27, 99, 17, 50, 34, 30, 62, 70, 13, 5, 3, 59, 36, 25, 63, 85, 17, 33, 50, 21, 35, 65, 22, 3, 34, 1, 6, 9, 80, 68, 86, 36, 68, 96, 41, 81, 91, 34, 18, 94, 15, 70, 86]\n",
      "<정렬 후>\n",
      "[66, 85, 80, 57, 21, 68, 59, 82, 16, 7, 98, 49, 92, 66, 94, 28, 23, 89, 11, 13, 60, 94, 69, 55, 82, 66, 80, 100, 64, 34, 46, 94, 98, 70, 89, 45, 80, 69, 30, 4, 17, 13, 29, 8, 76, 86, 29, 75, 46, 100, 49, 4, 6, 36, 74, 34, 81, 27, 99, 17, 50, 34, 30, 62, 70, 13, 5, 3, 59, 36, 25, 63, 85, 17, 33, 50, 21, 35, 65, 22, 3, 34, 1, 6, 9, 80, 68, 86, 36, 68, 96, 41, 81, 91, 34, 18, 94, 15, 70, 86]\n"
     ]
    }
   ],
   "source": [
    "import random\n",
    "import time\n",
    "\n",
    "compare_counter = 0\n",
    "swap_counter = 0\n",
    "\n",
    "def swap( x , i ,j ):\n",
    "    x[i] , x[j] = x[j] , x[i]\n",
    "    \n",
    "def pivotFirst(x , lmark, rmark):\n",
    "    pivot_val = x[lmark]\n",
    "    pivot_idx = lmark\n",
    "    while lmark <= rmark:\n",
    "        while lmark <= rmark and x[lmark] <= pivot_val:\n",
    "            lmark += 1\n",
    "            \n",
    "        while lmark <= rmark and x[rmark] >= pivot_Val:\n",
    "            rmark -= 1\n",
    "            \n",
    "        if lmark <= rmark:\n",
    "            \n",
    "            swap(x, lmark , rmark)\n",
    "            lmark += 1\n",
    "            rmark -= 1\n",
    "        \n",
    "        swap(x , pivot_idx , rmark )\n",
    "        return rmark\n",
    "    \n",
    "def quickSort( x , pivotMethod = pivotFirst):\n",
    "    \n",
    "    def _qsort(x , first , last):\n",
    "        \n",
    "        if first < last:\n",
    "            \n",
    "            splitpoint = pivotMethod(x , first , last)\n",
    "            _qsort(x , first , splitpoint-1)\n",
    "            _qsort(x, splitpoint+1 , last )\n",
    "            _qsort(x , 0 , len(x) - 1)\n",
    "            \n",
    "if __name__ == '__main__':\n",
    "    \n",
    "    list = []\n",
    "    input_n = input('정렬할 데이터의 수 :')\n",
    "    \n",
    "    for i in range( int(input_n)):\n",
    "        \n",
    "        list.append(random.randint(1,int(input_n)))\n",
    "        \n",
    "    print('<정렬 전>')\n",
    "    print(list)\n",
    "    \n",
    "    start_time = time.time()\n",
    "    quickSort(list)\n",
    "    running_time = time.time() - start_time\n",
    "    \n",
    "    print('<정렬 후>')\n",
    "    print(list)\n",
    "    \n",
    "# 음 나는 안되는 데 ??\n",
    "# 책이 잘못된걸까 내가 잘못 따라친걸까? 차차오는 일요일에 알게 되겠지. sort같은 경우엔 내가 이해 못한적이 많음... 이번에 알게 되자"
   ]
  },
  {
   "cell_type": "code",
   "execution_count": 5,
   "metadata": {},
   "outputs": [
    {
     "name": "stdout",
     "output_type": "stream",
     "text": [
      "<정렬 전>\n",
      "[8038, 27098, 55843, 17331, 46650, 62989, 68133, 37994, 32838, 51613, 54939, 76007, 2080, 90957, 36242, 30697, 71107, 25155, 28202, 58547, 1175, 49997, 86534, 34482, 4263, 71856, 40313, 97148, 72530, 83652, 4122, 14364, 1964, 9434, 42983, 45823, 76115, 45680, 35566, 47279, 73998, 63773, 32081, 63983, 1735, 40049, 9609, 49370, 45337, 35664, 1868, 39119, 48714, 76078, 79503, 97053, 29114, 64648, 6647, 79825, 19886, 36351, 84358, 42760, 45414, 26234, 10622, 82407, 71861, 14547, 72857, 33001, 75959, 89490, 25298, 98162, 49974, 11265, 32355, 19958, 40671, 18787, 59118, 98613, 6204, 48053, 62457, 42110, 7121, 66337, 14976, 89050, 98175, 1949, 78154, 98211, 97988, 8630, 7808, 92235]\n"
     ]
    },
    {
     "ename": "TypeError",
     "evalue": "'list' object is not callable",
     "output_type": "error",
     "traceback": [
      "\u001b[1;31m---------------------------------------------------------------------------\u001b[0m",
      "\u001b[1;31mTypeError\u001b[0m                                 Traceback (most recent call last)",
      "\u001b[1;32m<ipython-input-5-f5fb84ee0f29>\u001b[0m in \u001b[0;36m<module>\u001b[1;34m\u001b[0m\n\u001b[0;32m     41\u001b[0m     \u001b[0mprint\u001b[0m\u001b[1;33m(\u001b[0m\u001b[0ml\u001b[0m\u001b[1;33m)\u001b[0m\u001b[1;33m\u001b[0m\u001b[1;33m\u001b[0m\u001b[0m\n\u001b[0;32m     42\u001b[0m \u001b[1;33m\u001b[0m\u001b[0m\n\u001b[1;32m---> 43\u001b[1;33m     \u001b[0msorted\u001b[0m \u001b[1;33m=\u001b[0m \u001b[0mradixsort\u001b[0m\u001b[1;33m(\u001b[0m\u001b[0ml\u001b[0m\u001b[1;33m)\u001b[0m\u001b[1;33m\u001b[0m\u001b[1;33m\u001b[0m\u001b[0m\n\u001b[0m\u001b[0;32m     44\u001b[0m     \u001b[0mprint\u001b[0m\u001b[1;33m(\u001b[0m\u001b[1;34m'<정렬 후>'\u001b[0m\u001b[1;33m)\u001b[0m\u001b[1;33m\u001b[0m\u001b[1;33m\u001b[0m\u001b[0m\n\u001b[0;32m     45\u001b[0m     \u001b[0mprint\u001b[0m\u001b[1;33m(\u001b[0m\u001b[0msorted\u001b[0m\u001b[1;33m)\u001b[0m\u001b[1;33m\u001b[0m\u001b[1;33m\u001b[0m\u001b[0m\n",
      "\u001b[1;32m<ipython-input-5-f5fb84ee0f29>\u001b[0m in \u001b[0;36mradixsort\u001b[1;34m(l, base)\u001b[0m\n\u001b[0;32m     29\u001b[0m             \u001b[0moutput\u001b[0m\u001b[1;33m[\u001b[0m\u001b[0mnew_pos\u001b[0m\u001b[1;33m]\u001b[0m \u001b[1;33m=\u001b[0m \u001b[0mi\u001b[0m\u001b[1;33m\u001b[0m\u001b[1;33m\u001b[0m\u001b[0m\n\u001b[0;32m     30\u001b[0m \u001b[1;33m\u001b[0m\u001b[0m\n\u001b[1;32m---> 31\u001b[1;33m         \u001b[0ml\u001b[0m \u001b[1;33m=\u001b[0m \u001b[0mlist\u001b[0m\u001b[1;33m(\u001b[0m\u001b[0moutput\u001b[0m\u001b[1;33m)\u001b[0m\u001b[1;33m\u001b[0m\u001b[1;33m\u001b[0m\u001b[0m\n\u001b[0m\u001b[0;32m     32\u001b[0m \u001b[1;33m\u001b[0m\u001b[0m\n\u001b[0;32m     33\u001b[0m     \u001b[1;32mreturn\u001b[0m \u001b[0moutput\u001b[0m\u001b[1;33m\u001b[0m\u001b[1;33m\u001b[0m\u001b[0m\n",
      "\u001b[1;31mTypeError\u001b[0m: 'list' object is not callable"
     ]
    }
   ],
   "source": [
    "from math import log10\n",
    "from random import randint\n",
    "\n",
    "def get_digit(number , base , pos):\n",
    "    return ( number // base ** pos ) % base\n",
    "\n",
    "def prefix_sum(array):\n",
    "    for i in range(1, len(array)):\n",
    "        array[i] = array[i] + array[i-1]\n",
    "    return array\n",
    "\n",
    "def radixsort(l, base=10):\n",
    "    passes = int(log10(max(l)) + 1)\n",
    "    output = [0] * len(l)\n",
    "    \n",
    "    for pos in range(passes):\n",
    "        count = [0] * base\n",
    "        \n",
    "        for i in l:\n",
    "            digit = get_digit(1 , base , pos)\n",
    "            count[digit] += 1\n",
    "            \n",
    "        count = prefix_sum(count)\n",
    "        \n",
    "        for i in reversed(l):\n",
    "            digit = get_digit(1 , base ,pos)\n",
    "            count[digit] -= 1\n",
    "            new_pos = count[digit]\n",
    "            output[new_pos] = i\n",
    "            \n",
    "        l = list(output)\n",
    "        \n",
    "    return output\n",
    "\n",
    "if __name__ == '__main__':\n",
    "    \n",
    "    l = []\n",
    "    l = [randint(1,99999) for x in range(100)]\n",
    "    print('<정렬 전>')\n",
    "    \n",
    "    print(l)\n",
    "    \n",
    "    sorted = radixsort(l)\n",
    "    print('<정렬 후>')\n",
    "    print(sorted)\n",
    "    \n",
    "# 이거도 안되는 데..? 이거도 공부해야지 뭐.."
   ]
  }
 ],
 "metadata": {
  "kernelspec": {
   "display_name": "Python 3",
   "language": "python",
   "name": "python3"
  },
  "language_info": {
   "codemirror_mode": {
    "name": "ipython",
    "version": 3
   },
   "file_extension": ".py",
   "mimetype": "text/x-python",
   "name": "python",
   "nbconvert_exporter": "python",
   "pygments_lexer": "ipython3",
   "version": "3.7.4"
  }
 },
 "nbformat": 4,
 "nbformat_minor": 2
}
