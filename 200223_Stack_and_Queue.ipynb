{
 "cells": [
  {
   "cell_type": "code",
   "execution_count": 2,
   "metadata": {},
   "outputs": [
    {
     "name": "stdout",
     "output_type": "stream",
     "text": [
      "현재 stack의 모습\n",
      "[1, 2, 3, 4]\n",
      "pop > 4\n",
      "pop > 3\n",
      "pop > 2\n",
      "pop > 1\n"
     ]
    }
   ],
   "source": [
    "# Stack\n",
    "\n",
    "def push(item):\n",
    "    stack.append(item)\n",
    "    \n",
    "def pop():\n",
    "    return stack.pop()\n",
    "\n",
    "if __name__ == '__main__':\n",
    "    stack = []\n",
    "    push(1)\n",
    "    push(2)\n",
    "    push(3)\n",
    "    push(4)\n",
    "    print('현재 stack의 모습')\n",
    "    print(stack)\n",
    "    \n",
    "    while stack:\n",
    "        print('pop > {}'.format(pop()))\n",
    "              "
   ]
  },
  {
   "cell_type": "code",
   "execution_count": 5,
   "metadata": {},
   "outputs": [
    {
     "name": "stdout",
     "output_type": "stream",
     "text": [
      " 현재 queue의 모습 \n",
      "[1, 2, 3, 4]\n",
      "POP > 1\n",
      "POP > 2\n",
      "POP > 3\n",
      "POP > 4\n"
     ]
    }
   ],
   "source": [
    "#Queue\n",
    "\n",
    "def put(item):\n",
    "    queue.append(item)\n",
    "    \n",
    "def get():\n",
    "    return queue.pop(0)\n",
    "\n",
    "if __name__ == '__main__':\n",
    "    queue = []\n",
    "    put(1)\n",
    "    put(2)\n",
    "    put(3)\n",
    "    put(4)\n",
    "    \n",
    "    print(' 현재 queue의 모습 ')\n",
    "    print(queue)\n",
    "    \n",
    "    while queue:\n",
    "        print('POP > {}'.format(get()))"
   ]
  }
 ],
 "metadata": {
  "kernelspec": {
   "display_name": "Python 3",
   "language": "python",
   "name": "python3"
  },
  "language_info": {
   "codemirror_mode": {
    "name": "ipython",
    "version": 3
   },
   "file_extension": ".py",
   "mimetype": "text/x-python",
   "name": "python",
   "nbconvert_exporter": "python",
   "pygments_lexer": "ipython3",
   "version": "3.7.4"
  }
 },
 "nbformat": 4,
 "nbformat_minor": 2
}
