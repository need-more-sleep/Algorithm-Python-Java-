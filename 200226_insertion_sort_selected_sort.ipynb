{
 "cells": [
  {
   "cell_type": "code",
   "execution_count": 8,
   "metadata": {},
   "outputs": [
    {
     "name": "stdout",
     "output_type": "stream",
     "text": [
      "<Before Sort>\n",
      "[7, 2, 10, 6, 2, 10, 7, 2, 1, 6]\n",
      "<After Sort>\n",
      "[1, 2, 2, 2, 6, 6, 7, 7, 10, 10]\n",
      "정렬할 데이터의 수 : 100\n",
      "<정렬 전>\n",
      "[38, 88, 26, 16, 74, 7, 6, 79, 67, 72, 94, 35, 29, 9, 26, 48, 65, 34, 79, 42, 82, 80, 63, 56, 88, 61, 55, 71, 10, 80, 88, 30, 50, 6, 89, 4, 43, 94, 28, 37, 92, 25, 34, 19, 21, 97, 38, 57, 11, 70, 6, 34, 92, 12, 85, 9, 32, 33, 28, 99, 25, 45, 19, 72, 43, 20, 35, 50, 53, 68, 12, 43, 78, 96, 76, 76, 48, 16, 1, 67, 59, 16, 77, 62, 29, 59, 6, 11, 4, 33, 27, 81, 37, 68, 23, 35, 32, 41, 22, 43]\n",
      "<정렬 후>\n",
      "[1, 4, 4, 6, 6, 6, 6, 7, 9, 9, 10, 11, 11, 12, 12, 16, 16, 16, 19, 19, 20, 21, 22, 23, 25, 25, 26, 26, 27, 28, 28, 29, 29, 30, 32, 32, 33, 33, 34, 34, 34, 35, 35, 35, 37, 37, 38, 38, 41, 42, 43, 43, 43, 43, 45, 48, 48, 50, 50, 53, 55, 56, 57, 59, 59, 61, 62, 63, 65, 67, 67, 68, 68, 70, 71, 72, 72, 74, 76, 76, 77, 78, 79, 79, 80, 80, 81, 82, 85, 88, 88, 88, 89, 92, 92, 94, 94, 96, 97, 99]\n",
      "데이터의 크기 : 100\n"
     ]
    },
    {
     "ename": "NameError",
     "evalue": "name 'compare_count' is not defined",
     "output_type": "error",
     "traceback": [
      "\u001b[1;31m---------------------------------------------------------------------------\u001b[0m",
      "\u001b[1;31mNameError\u001b[0m                                 Traceback (most recent call last)",
      "\u001b[1;32m<ipython-input-8-c293bdec2b7a>\u001b[0m in \u001b[0;36m<module>\u001b[1;34m\u001b[0m\n\u001b[0;32m     68\u001b[0m \u001b[1;33m\u001b[0m\u001b[0m\n\u001b[0;32m     69\u001b[0m     \u001b[0mprint\u001b[0m\u001b[1;33m(\u001b[0m\u001b[1;34m'데이터의 크기 : {}'\u001b[0m\u001b[1;33m.\u001b[0m\u001b[0mformat\u001b[0m\u001b[1;33m(\u001b[0m\u001b[0mint\u001b[0m\u001b[1;33m(\u001b[0m\u001b[0minput_n\u001b[0m\u001b[1;33m)\u001b[0m\u001b[1;33m)\u001b[0m\u001b[1;33m)\u001b[0m\u001b[1;33m\u001b[0m\u001b[1;33m\u001b[0m\u001b[0m\n\u001b[1;32m---> 70\u001b[1;33m     \u001b[0mprint\u001b[0m\u001b[1;33m(\u001b[0m\u001b[1;34m'비교 횟수 : {}'\u001b[0m\u001b[1;33m.\u001b[0m\u001b[0mformat\u001b[0m\u001b[1;33m(\u001b[0m\u001b[0mcompare_count\u001b[0m\u001b[1;33m)\u001b[0m\u001b[1;33m)\u001b[0m\u001b[1;33m\u001b[0m\u001b[1;33m\u001b[0m\u001b[0m\n\u001b[0m\u001b[0;32m     71\u001b[0m     \u001b[0mprint\u001b[0m\u001b[1;33m(\u001b[0m\u001b[1;34m'교환 횟수 : {}'\u001b[0m\u001b[1;33m.\u001b[0m\u001b[0mformat\u001b[0m\u001b[1;33m(\u001b[0m\u001b[0mswap_counter\u001b[0m\u001b[1;33m)\u001b[0m\u001b[1;33m)\u001b[0m\u001b[1;33m\u001b[0m\u001b[1;33m\u001b[0m\u001b[0m\n\u001b[0;32m     72\u001b[0m     \u001b[0mprint\u001b[0m\u001b[1;33m(\u001b[0m\u001b[1;34m'실행 시간 : {}'\u001b[0m\u001b[1;33m.\u001b[0m\u001b[0mformat\u001b[0m\u001b[1;33m(\u001b[0m\u001b[0mrunning_time\u001b[0m\u001b[1;33m)\u001b[0m\u001b[1;33m)\u001b[0m\u001b[1;33m\u001b[0m\u001b[1;33m\u001b[0m\u001b[0m\n",
      "\u001b[1;31mNameError\u001b[0m: name 'compare_count' is not defined"
     ]
    }
   ],
   "source": [
    "import random\n",
    "import time\n",
    "\n",
    "compare_counter = 0\n",
    "swap_counter = 0\n",
    "\n",
    "def insertion_sort(my_list):\n",
    "    global compare_counter, swap_counter\n",
    "    my_list.insert(0,-1)\n",
    "    for s_idx in range(2, len(my_list)):\n",
    "        temp = my_list[s_idx]\n",
    "        ins_idx = s_idx\n",
    "        compare_counter += 1\n",
    "        \n",
    "        while my_list[ins_idx-1] > temp:\n",
    "            swap_counter += 1\n",
    "            my_list[ins_idx] = my_list[ins_idx-1]\n",
    "            ins_idx = ins_idx - 1\n",
    "            \n",
    "        my_list[ins_idx] = temp\n",
    "        \n",
    "    del my_list[0]\n",
    "\n",
    "def selected_sort(random_list):\n",
    "    \n",
    "    for sel in range(len(random_list)-1):\n",
    "        \n",
    "        min = random_list[sel]\n",
    "        minindex = sel\n",
    "        #find min value\n",
    "        for step in range( sel+1 , len(random_list)):\n",
    "            \n",
    "            if min> random_list[step]:\n",
    "                min = random_list[step]\n",
    "                minindex = step\n",
    "                \n",
    "        #swap\n",
    "        random_list[minindex] = random_list[sel]\n",
    "        random_list[sel] = min\n",
    "        \n",
    "if __name__ == '__main__':\n",
    "    \n",
    "    list = []\n",
    "    for i in range(10):\n",
    "        list.append( random.randint(1,10))\n",
    "        \n",
    "    print('<Before Sort>')\n",
    "    print(list)\n",
    "    \n",
    "    selected_sort(list)\n",
    "    print('<After Sort>')\n",
    "    print(list)\n",
    "    \n",
    "    list = []\n",
    "    input_n = input('정렬할 데이터의 수 : ')\n",
    "    for i in range(int(input_n)):\n",
    "        list.append(random.randint(1, int(input_n)))\n",
    "        \n",
    "    print('<정렬 전>')\n",
    "    print(list)\n",
    "    \n",
    "    start_time = time.time()\n",
    "    insertion_sort(list)\n",
    "    running_time = time.time() - start_time\n",
    "    \n",
    "    print('<정렬 후>')\n",
    "    print(list)\n",
    "    \n",
    "    print('데이터의 크기 : {}'.format(int(input_n)))\n",
    "    print('비교 횟수 : {}'.format(compare_count))\n",
    "    print('교환 횟수 : {}'.format(swap_counter))\n",
    "    print('실행 시간 : {}'.format(running_time))\n",
    "    \n"
   ]
  }
 ],
 "metadata": {
  "kernelspec": {
   "display_name": "Python 3",
   "language": "python",
   "name": "python3"
  },
  "language_info": {
   "codemirror_mode": {
    "name": "ipython",
    "version": 3
   },
   "file_extension": ".py",
   "mimetype": "text/x-python",
   "name": "python",
   "nbconvert_exporter": "python",
   "pygments_lexer": "ipython3",
   "version": "3.7.4"
  }
 },
 "nbformat": 4,
 "nbformat_minor": 2
}
